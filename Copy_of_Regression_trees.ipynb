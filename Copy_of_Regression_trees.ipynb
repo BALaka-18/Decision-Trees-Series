{
  "nbformat": 4,
  "nbformat_minor": 0,
  "metadata": {
    "colab": {
      "name": "Copy of Regression-trees.ipynb",
      "provenance": [],
      "include_colab_link": true
    },
    "kernelspec": {
      "name": "python3",
      "display_name": "Python 3"
    }
  },
  "cells": [
    {
      "cell_type": "markdown",
      "metadata": {
        "id": "view-in-github",
        "colab_type": "text"
      },
      "source": [
        "<a href=\"https://colab.research.google.com/github/BALaka-18/Decision-Trees-Series/blob/master/Copy_of_Regression_trees.ipynb\" target=\"_parent\"><img src=\"https://colab.research.google.com/assets/colab-badge.svg\" alt=\"Open In Colab\"/></a>"
      ]
    },
    {
      "cell_type": "code",
      "metadata": {
        "id": "L5YLJv7MKZul",
        "colab_type": "code",
        "colab": {}
      },
      "source": [
        "import numpy as np\n",
        "import pandas as pd"
      ],
      "execution_count": 0,
      "outputs": []
    },
    {
      "cell_type": "code",
      "metadata": {
        "id": "Ws4XwFgyKe6t",
        "colab_type": "code",
        "colab": {}
      },
      "source": [
        "df=pd.DataFrame()"
      ],
      "execution_count": 0,
      "outputs": []
    },
    {
      "cell_type": "code",
      "metadata": {
        "id": "AwCy1_qoKrwF",
        "colab_type": "code",
        "colab": {}
      },
      "source": [
        "df['hrs']=np.array([1,2.5,1.5,2.1,5,4,6.5,3.5,8,7.5])\n",
        "df['marks']=np.array([37,50,43,60,27,80,30,75,64,56])"
      ],
      "execution_count": 0,
      "outputs": []
    },
    {
      "cell_type": "code",
      "metadata": {
        "id": "3AsaU0-PLXqb",
        "colab_type": "code",
        "outputId": "53be26e3-9abb-46a6-92c4-4919a7a06368",
        "colab": {
          "base_uri": "https://localhost:8080/",
          "height": 335
        }
      },
      "source": [
        "df"
      ],
      "execution_count": 4,
      "outputs": [
        {
          "output_type": "execute_result",
          "data": {
            "text/html": [
              "<div>\n",
              "<style scoped>\n",
              "    .dataframe tbody tr th:only-of-type {\n",
              "        vertical-align: middle;\n",
              "    }\n",
              "\n",
              "    .dataframe tbody tr th {\n",
              "        vertical-align: top;\n",
              "    }\n",
              "\n",
              "    .dataframe thead th {\n",
              "        text-align: right;\n",
              "    }\n",
              "</style>\n",
              "<table border=\"1\" class=\"dataframe\">\n",
              "  <thead>\n",
              "    <tr style=\"text-align: right;\">\n",
              "      <th></th>\n",
              "      <th>hrs</th>\n",
              "      <th>marks</th>\n",
              "    </tr>\n",
              "  </thead>\n",
              "  <tbody>\n",
              "    <tr>\n",
              "      <th>0</th>\n",
              "      <td>1.0</td>\n",
              "      <td>37</td>\n",
              "    </tr>\n",
              "    <tr>\n",
              "      <th>1</th>\n",
              "      <td>2.5</td>\n",
              "      <td>50</td>\n",
              "    </tr>\n",
              "    <tr>\n",
              "      <th>2</th>\n",
              "      <td>1.5</td>\n",
              "      <td>43</td>\n",
              "    </tr>\n",
              "    <tr>\n",
              "      <th>3</th>\n",
              "      <td>2.1</td>\n",
              "      <td>60</td>\n",
              "    </tr>\n",
              "    <tr>\n",
              "      <th>4</th>\n",
              "      <td>5.0</td>\n",
              "      <td>27</td>\n",
              "    </tr>\n",
              "    <tr>\n",
              "      <th>5</th>\n",
              "      <td>4.0</td>\n",
              "      <td>80</td>\n",
              "    </tr>\n",
              "    <tr>\n",
              "      <th>6</th>\n",
              "      <td>6.5</td>\n",
              "      <td>30</td>\n",
              "    </tr>\n",
              "    <tr>\n",
              "      <th>7</th>\n",
              "      <td>3.5</td>\n",
              "      <td>75</td>\n",
              "    </tr>\n",
              "    <tr>\n",
              "      <th>8</th>\n",
              "      <td>8.0</td>\n",
              "      <td>64</td>\n",
              "    </tr>\n",
              "    <tr>\n",
              "      <th>9</th>\n",
              "      <td>7.5</td>\n",
              "      <td>56</td>\n",
              "    </tr>\n",
              "  </tbody>\n",
              "</table>\n",
              "</div>"
            ],
            "text/plain": [
              "   hrs  marks\n",
              "0  1.0     37\n",
              "1  2.5     50\n",
              "2  1.5     43\n",
              "3  2.1     60\n",
              "4  5.0     27\n",
              "5  4.0     80\n",
              "6  6.5     30\n",
              "7  3.5     75\n",
              "8  8.0     64\n",
              "9  7.5     56"
            ]
          },
          "metadata": {
            "tags": []
          },
          "execution_count": 4
        }
      ]
    },
    {
      "cell_type": "code",
      "metadata": {
        "id": "3ee6DyDnLY3H",
        "colab_type": "code",
        "colab": {}
      },
      "source": [
        "import matplotlib.pyplot as plt"
      ],
      "execution_count": 0,
      "outputs": []
    },
    {
      "cell_type": "code",
      "metadata": {
        "id": "XASn6oEvLfTj",
        "colab_type": "code",
        "outputId": "9085f8d9-23c5-43dd-a1ad-d067ffc3acfd",
        "colab": {
          "base_uri": "https://localhost:8080/",
          "height": 311
        }
      },
      "source": [
        "plt.scatter(df['hrs'],df['marks'])\n",
        "plt.xlabel(\"Hours\")\n",
        "plt.ylabel(\"Marks\")\n",
        "plt.title(\"MARKS VS HOURS\")\n",
        "plt.plot()"
      ],
      "execution_count": 6,
      "outputs": [
        {
          "output_type": "execute_result",
          "data": {
            "text/plain": [
              "[]"
            ]
          },
          "metadata": {
            "tags": []
          },
          "execution_count": 6
        },
        {
          "output_type": "display_data",
          "data": {
            "image/png": "[encoded data removed]",
            "text/plain": [
              "<Figure size 432x288 with 1 Axes>"
            ]
          },
          "metadata": {
            "tags": [],
            "needs_background": "light"
          }
        }
      ]
    },
    {
      "cell_type": "code",
      "metadata": {
        "id": "bD29xDFeLj5S",
        "colab_type": "code",
        "colab": {}
      },
      "source": [
        "# You have to find the first splitting criteria."
      ],
      "execution_count": 0,
      "outputs": []
    },
    {
      "cell_type": "markdown",
      "metadata": {
        "id": "bTzK5pvLU8w9",
        "colab_type": "text"
      },
      "source": [
        "#### TASK : We have to find the first splitting condition on the hrs column."
      ]
    },
    {
      "cell_type": "code",
      "metadata": {
        "id": "qZ_FdQZRX6h8",
        "colab_type": "code",
        "colab": {
          "base_uri": "https://localhost:8080/",
          "height": 33
        },
        "outputId": "069f0be2-03dd-4dd4-e826-667f786a95fa"
      },
      "source": [
        "l = list(df.hrs.values)[0:2]\n",
        "m = np.mean(l)\n",
        "'''less = [elem for elem in l if elem < m]\n",
        "less'''\n",
        "m"
      ],
      "execution_count": 8,
      "outputs": [
        {
          "output_type": "execute_result",
          "data": {
            "text/plain": [
              "1.75"
            ]
          },
          "metadata": {
            "tags": []
          },
          "execution_count": 8
        }
      ]
    },
    {
      "cell_type": "code",
      "metadata": {
        "id": "Ps1KYU7oWqfb",
        "colab_type": "code",
        "colab": {}
      },
      "source": [
        "def best_split_hrs(df):\n",
        "  hours = list(df.hrs.values)\n",
        "  # Initialize sse (squared sum error) list and mean_list\n",
        "  sse_list,mean_list = [],[]\n",
        "  for i in range(df.shape[0]):\n",
        "    # Take a combination of 2 consecutive points at a time\n",
        "    new = hours[i:i+2]\n",
        "\n",
        "    # Find their mean\n",
        "    mean_div = np.mean(new)\n",
        "    mean_list.append(mean_div)\n",
        "\n",
        "    # Split on the basis of the mean\n",
        "    less = [elem for elem in hours if elem < mean_div]\n",
        "    more = [elem2 for elem2 in hours if elem2 >= mean_div]\n",
        "\n",
        "    '''Find means for each of the two sub-groups\n",
        "       splitting_criteria = mean_div\n",
        "                        \n",
        "                        ----------------------------- \n",
        "                       | is hrs < splitting_criteria |\n",
        "                        -----------------------------\n",
        "                              /              \\\n",
        "                             /                \\\n",
        "                            /                  \\\n",
        "                          True                 False   \n",
        "                        mean_less            mean_more\n",
        "    '''\n",
        "    \n",
        "    mean_less = np.mean(less)\n",
        "    mean_more = np.mean(more)\n",
        "\n",
        "    # Find sse.\n",
        "    sse_less = [(mean_less - pt)**2 for pt in less]\n",
        "    sse_more = [(mean_more - pt2)**2 for pt2 in more]\n",
        "    sse = sum(sse_less) + sum(sse_more)\n",
        "\n",
        "    # Store in the list for comparison\n",
        "    sse_list.append(sse)\n",
        "  # Get the data point corresponding to the least sse.\n",
        "  split = int(hours[sse_list.index(min(sse_list))])\n",
        "  return split,sse_list,mean_list"
      ],
      "execution_count": 0,
      "outputs": []
    },
    {
      "cell_type": "code",
      "metadata": {
        "id": "HBLvG9N_pG_P",
        "colab_type": "code",
        "colab": {
          "base_uri": "https://localhost:8080/",
          "height": 343
        },
        "outputId": "4919a13a-2806-4e89-f1e7-ea2375dd9223"
      },
      "source": [
        "condition,lst,m = best_split_hrs(df)\n",
        "\n",
        "# Print\n",
        "print(\"Splitting condition : hrs < \",condition,\"\\n\\n\")\n",
        "# Plot the residuals\n",
        "plt.scatter(x=m,y=lst,c='red')\n",
        "plt.xlabel(\"Means ---->\")\n",
        "plt.ylabel(\"Residuals/Errors\")\n",
        "plt.title(\"ERRORS VS MEANS\")\n",
        "plt.show()"
      ],
      "execution_count": 10,
      "outputs": [
        {
          "output_type": "stream",
          "text": [
            "Splitting condition : hrs <  5 \n",
            "\n",
            "\n"
          ],
          "name": "stdout"
        },
        {
          "output_type": "display_data",
          "data": {
            "image/png": "[encoded data removed]",
            "text/plain": [
              "<Figure size 432x288 with 1 Axes>"
            ]
          },
          "metadata": {
            "tags": [],
            "needs_background": "light"
          }
        }
      ]
    },
    {
      "cell_type": "code",
      "metadata": {
        "id": "oRVuHQtJz20U",
        "colab_type": "code",
        "colab": {}
      },
      "source": [
        "# Specify a threshold for leaf nodes\n",
        "# If threshold is satisified, move to the next branch\n",
        "# Else, follow the same steps for that branch."
      ],
      "execution_count": 0,
      "outputs": []
    },
    {
      "cell_type": "code",
      "metadata": {
        "id": "xjCfEF8LWGgP",
        "colab_type": "code",
        "colab": {}
      },
      "source": [
        ""
      ],
      "execution_count": 0,
      "outputs": []
    }
  ]
}