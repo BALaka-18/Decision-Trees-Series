{
  "nbformat": 4,
  "nbformat_minor": 0,
  "metadata": {
    "colab": {
      "name": "Decision_Trees1.ipynb",
      "provenance": [],
      "collapsed_sections": [],
      "mount_file_id": "19_zbcLMEfOABCJV2YTHxzW3DCNGz-bDp",
      "authorship_tag": "ABX9TyNCq4KX+JZwaRh1j1dG3Zim",
      "include_colab_link": true
    },
    "kernelspec": {
      "name": "python3",
      "display_name": "Python 3"
    }
  },
  "cells": [
    {
      "cell_type": "markdown",
      "metadata": {
        "id": "view-in-github",
        "colab_type": "text"
      },
      "source": [
        "<a href=\"https://colab.research.google.com/github/BALaka-18/Decision-Trees-Series/blob/master/Decision_Trees1.ipynb\" target=\"_parent\"><img src=\"https://colab.research.google.com/assets/colab-badge.svg\" alt=\"Open In Colab\"/></a>"
      ]
    },
    {
      "cell_type": "code",
      "metadata": {
        "id": "dV_AlWR-KEgR",
        "colab_type": "code",
        "colab": {}
      },
      "source": [
        "import pandas as pd\n",
        "import numpy as np"
      ],
      "execution_count": 0,
      "outputs": []
    },
    {
      "cell_type": "markdown",
      "metadata": {
        "id": "jrswj6RtVVw2",
        "colab_type": "text"
      },
      "source": [
        "## TASK 1 : \n",
        "You have to work on the play tennis(https://www.kaggle.com/fredericobreno/play-tennis) dataset and manually find out on which column the first split will take place.\n",
        "\n",
        "**Hint:** Find Information Gains for all the columns"
      ]
    },
    {
      "cell_type": "code",
      "metadata": {
        "id": "q9z2X9KBPpEZ",
        "colab_type": "code",
        "colab": {
          "base_uri": "https://localhost:8080/",
          "height": 191
        },
        "outputId": "85ec5457-abee-4644-e3e4-9370529fe92a"
      },
      "source": [
        "data = pd.read_csv('/content/drive/My Drive/play_tennis.csv')\n",
        "data.head()"
      ],
      "execution_count": 46,
      "outputs": [
        {
          "output_type": "execute_result",
          "data": {
            "text/html": [
              "<div>\n",
              "<style scoped>\n",
              "    .dataframe tbody tr th:only-of-type {\n",
              "        vertical-align: middle;\n",
              "    }\n",
              "\n",
              "    .dataframe tbody tr th {\n",
              "        vertical-align: top;\n",
              "    }\n",
              "\n",
              "    .dataframe thead th {\n",
              "        text-align: right;\n",
              "    }\n",
              "</style>\n",
              "<table border=\"1\" class=\"dataframe\">\n",
              "  <thead>\n",
              "    <tr style=\"text-align: right;\">\n",
              "      <th></th>\n",
              "      <th>day</th>\n",
              "      <th>outlook</th>\n",
              "      <th>temp</th>\n",
              "      <th>humidity</th>\n",
              "      <th>wind</th>\n",
              "      <th>play</th>\n",
              "    </tr>\n",
              "  </thead>\n",
              "  <tbody>\n",
              "    <tr>\n",
              "      <th>0</th>\n",
              "      <td>D1</td>\n",
              "      <td>Sunny</td>\n",
              "      <td>Hot</td>\n",
              "      <td>High</td>\n",
              "      <td>Weak</td>\n",
              "      <td>No</td>\n",
              "    </tr>\n",
              "    <tr>\n",
              "      <th>1</th>\n",
              "      <td>D2</td>\n",
              "      <td>Sunny</td>\n",
              "      <td>Hot</td>\n",
              "      <td>High</td>\n",
              "      <td>Strong</td>\n",
              "      <td>No</td>\n",
              "    </tr>\n",
              "    <tr>\n",
              "      <th>2</th>\n",
              "      <td>D3</td>\n",
              "      <td>Overcast</td>\n",
              "      <td>Hot</td>\n",
              "      <td>High</td>\n",
              "      <td>Weak</td>\n",
              "      <td>Yes</td>\n",
              "    </tr>\n",
              "    <tr>\n",
              "      <th>3</th>\n",
              "      <td>D4</td>\n",
              "      <td>Rain</td>\n",
              "      <td>Mild</td>\n",
              "      <td>High</td>\n",
              "      <td>Weak</td>\n",
              "      <td>Yes</td>\n",
              "    </tr>\n",
              "    <tr>\n",
              "      <th>4</th>\n",
              "      <td>D5</td>\n",
              "      <td>Rain</td>\n",
              "      <td>Cool</td>\n",
              "      <td>Normal</td>\n",
              "      <td>Weak</td>\n",
              "      <td>Yes</td>\n",
              "    </tr>\n",
              "  </tbody>\n",
              "</table>\n",
              "</div>"
            ],
            "text/plain": [
              "  day   outlook  temp humidity    wind play\n",
              "0  D1     Sunny   Hot     High    Weak   No\n",
              "1  D2     Sunny   Hot     High  Strong   No\n",
              "2  D3  Overcast   Hot     High    Weak  Yes\n",
              "3  D4      Rain  Mild     High    Weak  Yes\n",
              "4  D5      Rain  Cool   Normal    Weak  Yes"
            ]
          },
          "metadata": {
            "tags": []
          },
          "execution_count": 46
        }
      ]
    },
    {
      "cell_type": "code",
      "metadata": {
        "id": "MgK_1xRpPxmU",
        "colab_type": "code",
        "colab": {
          "base_uri": "https://localhost:8080/",
          "height": 228
        },
        "outputId": "0db7e428-04da-49db-8179-1d0fc03be175"
      },
      "source": [
        "data.info()"
      ],
      "execution_count": 47,
      "outputs": [
        {
          "output_type": "stream",
          "text": [
            "<class 'pandas.core.frame.DataFrame'>\n",
            "RangeIndex: 14 entries, 0 to 13\n",
            "Data columns (total 6 columns):\n",
            " #   Column    Non-Null Count  Dtype \n",
            "---  ------    --------------  ----- \n",
            " 0   day       14 non-null     object\n",
            " 1   outlook   14 non-null     object\n",
            " 2   temp      14 non-null     object\n",
            " 3   humidity  14 non-null     object\n",
            " 4   wind      14 non-null     object\n",
            " 5   play      14 non-null     object\n",
            "dtypes: object(6)\n",
            "memory usage: 800.0+ bytes\n"
          ],
          "name": "stdout"
        }
      ]
    },
    {
      "cell_type": "markdown",
      "metadata": {
        "id": "D9tGeKyBP22b",
        "colab_type": "text"
      },
      "source": [
        "#### Function for Calculating entropy"
      ]
    },
    {
      "cell_type": "code",
      "metadata": {
        "id": "FpUm5lwDP0BZ",
        "colab_type": "code",
        "colab": {}
      },
      "source": [
        "def entropy_cont(label_col,data=iris):\n",
        "  prob = data[label_col].value_counts()/data[label_col].value_counts().sum()\n",
        "  entr = sum([-p*np.log(p) for p in prob])\n",
        "  return entr"
      ],
      "execution_count": 0,
      "outputs": []
    },
    {
      "cell_type": "markdown",
      "metadata": {
        "id": "s2SvqjGpp9c-",
        "colab_type": "text"
      },
      "source": [
        "#### The play_tennis dataset (decision trees on purely categorical data)"
      ]
    },
    {
      "cell_type": "markdown",
      "metadata": {
        "id": "EVewCAC7QY-4",
        "colab_type": "text"
      },
      "source": [
        "#### Function to find best split based on information gain value"
      ]
    },
    {
      "cell_type": "code",
      "metadata": {
        "id": "v6WR-FeOQYG-",
        "colab_type": "code",
        "colab": {}
      },
      "source": [
        "# Function to find out most valuable column by calculating highest information gain iteratively.\n",
        "def best_split(data):\n",
        "    info_gain = []\n",
        "    yes_count = data[data.columns[len(data.columns)-1]].value_counts()['Yes']   # No. of 'Yes'\n",
        "    no_count = data[data.columns[len(data.columns)-1]].value_counts()['No']     # No. of 'No'\n",
        "    parent = entropy_cont('play',data=data)               # Calculating the parent entropy\n",
        "    for i in data.columns[1:-1]:\n",
        "        # Grouping on column\n",
        "        grouped = data.groupby(i).count()[data.columns[len(data.columns)-1]]\n",
        "        name_list = grouped.index.tolist()  # Get the unique values in a column\n",
        "        no_list = grouped.tolist()          # Get the value count.\n",
        "        child = 0\n",
        "        for j in range(len(name_list)):  # Calculate entropy for each child node.\n",
        "            data_temp = data[data[i]==name_list[j]]\n",
        "            try:\n",
        "                yes_count1 = data_temp[data.columns[len(data.columns)-1]].value_counts()['Yes']\n",
        "            except:\n",
        "                yes_count1 = 0\n",
        "            try:\n",
        "                no_count1 = data_temp[data.columns[len(data.columns)-1]].value_counts()['No']\n",
        "            except:\n",
        "                no_count1 = 0\n",
        "            entropy_branch = entropy_cont('play',data=data_temp)          # Child entropy\n",
        "            weight = no_list[j]/sum(no_list)      # Weight = no. of examples in that branch/total in parent\n",
        "            child = child + entropy_branch*weight    # Calculating weighted entropy.\n",
        "        info_gain.append(parent - child)\n",
        "    # print(info_gain)\n",
        "    return data.columns[info_gain.index(max(info_gain))+1]       # Because we are ignoring the 'day' column in our calculations"
      ],
      "execution_count": 0,
      "outputs": []
    },
    {
      "cell_type": "code",
      "metadata": {
        "id": "uoeDpZOUs8DY",
        "colab_type": "code",
        "colab": {
          "base_uri": "https://localhost:8080/",
          "height": 33
        },
        "outputId": "ea06bfe9-52dd-44b1-e92e-11a6c9be9b9b"
      },
      "source": [
        "data.groupby('outlook').count()[data.columns[len(data.columns)-1]].index.tolist()"
      ],
      "execution_count": 50,
      "outputs": [
        {
          "output_type": "execute_result",
          "data": {
            "text/plain": [
              "['Overcast', 'Rain', 'Sunny']"
            ]
          },
          "metadata": {
            "tags": []
          },
          "execution_count": 50
        }
      ]
    },
    {
      "cell_type": "markdown",
      "metadata": {
        "id": "251JBHkLSBeA",
        "colab_type": "text"
      },
      "source": [
        "#### Testing on the dataset"
      ]
    },
    {
      "cell_type": "code",
      "metadata": {
        "id": "GoU-wIFXR_p2",
        "colab_type": "code",
        "colab": {
          "base_uri": "https://localhost:8080/",
          "height": 33
        },
        "outputId": "b347c5bb-a265-435e-d09b-572147d62490"
      },
      "source": [
        "best_split(data)"
      ],
      "execution_count": 51,
      "outputs": [
        {
          "output_type": "execute_result",
          "data": {
            "text/plain": [
              "'outlook'"
            ]
          },
          "metadata": {
            "tags": []
          },
          "execution_count": 51
        }
      ]
    },
    {
      "cell_type": "markdown",
      "metadata": {
        "id": "Izoc-swTVm4D",
        "colab_type": "text"
      },
      "source": [
        "###### Split will take place on the 'outlook' column first"
      ]
    },
    {
      "cell_type": "markdown",
      "metadata": {
        "id": "Wgx5a1bjVxSK",
        "colab_type": "text"
      },
      "source": [
        "## TASK 2 : \n",
        "You have to work on the iris dataset and manually find out the splitting criteria for Petal Length column"
      ]
    },
    {
      "cell_type": "code",
      "metadata": {
        "id": "h4-lOKslSIX-",
        "colab_type": "code",
        "colab": {
          "base_uri": "https://localhost:8080/",
          "height": 191
        },
        "outputId": "5b6b26f1-31eb-4b98-b4a0-ffc621f3a74d"
      },
      "source": [
        "iris = pd.read_csv('/content/drive/My Drive/Iris.csv')\n",
        "iris.head()"
      ],
      "execution_count": 52,
      "outputs": [
        {
          "output_type": "execute_result",
          "data": {
            "text/html": [
              "<div>\n",
              "<style scoped>\n",
              "    .dataframe tbody tr th:only-of-type {\n",
              "        vertical-align: middle;\n",
              "    }\n",
              "\n",
              "    .dataframe tbody tr th {\n",
              "        vertical-align: top;\n",
              "    }\n",
              "\n",
              "    .dataframe thead th {\n",
              "        text-align: right;\n",
              "    }\n",
              "</style>\n",
              "<table border=\"1\" class=\"dataframe\">\n",
              "  <thead>\n",
              "    <tr style=\"text-align: right;\">\n",
              "      <th></th>\n",
              "      <th>Id</th>\n",
              "      <th>SepalLengthCm</th>\n",
              "      <th>SepalWidthCm</th>\n",
              "      <th>PetalLengthCm</th>\n",
              "      <th>PetalWidthCm</th>\n",
              "      <th>Species</th>\n",
              "    </tr>\n",
              "  </thead>\n",
              "  <tbody>\n",
              "    <tr>\n",
              "      <th>0</th>\n",
              "      <td>1</td>\n",
              "      <td>5.1</td>\n",
              "      <td>3.5</td>\n",
              "      <td>1.4</td>\n",
              "      <td>0.2</td>\n",
              "      <td>Iris-setosa</td>\n",
              "    </tr>\n",
              "    <tr>\n",
              "      <th>1</th>\n",
              "      <td>2</td>\n",
              "      <td>4.9</td>\n",
              "      <td>3.0</td>\n",
              "      <td>1.4</td>\n",
              "      <td>0.2</td>\n",
              "      <td>Iris-setosa</td>\n",
              "    </tr>\n",
              "    <tr>\n",
              "      <th>2</th>\n",
              "      <td>3</td>\n",
              "      <td>4.7</td>\n",
              "      <td>3.2</td>\n",
              "      <td>1.3</td>\n",
              "      <td>0.2</td>\n",
              "      <td>Iris-setosa</td>\n",
              "    </tr>\n",
              "    <tr>\n",
              "      <th>3</th>\n",
              "      <td>4</td>\n",
              "      <td>4.6</td>\n",
              "      <td>3.1</td>\n",
              "      <td>1.5</td>\n",
              "      <td>0.2</td>\n",
              "      <td>Iris-setosa</td>\n",
              "    </tr>\n",
              "    <tr>\n",
              "      <th>4</th>\n",
              "      <td>5</td>\n",
              "      <td>5.0</td>\n",
              "      <td>3.6</td>\n",
              "      <td>1.4</td>\n",
              "      <td>0.2</td>\n",
              "      <td>Iris-setosa</td>\n",
              "    </tr>\n",
              "  </tbody>\n",
              "</table>\n",
              "</div>"
            ],
            "text/plain": [
              "   Id  SepalLengthCm  SepalWidthCm  PetalLengthCm  PetalWidthCm      Species\n",
              "0   1            5.1           3.5            1.4           0.2  Iris-setosa\n",
              "1   2            4.9           3.0            1.4           0.2  Iris-setosa\n",
              "2   3            4.7           3.2            1.3           0.2  Iris-setosa\n",
              "3   4            4.6           3.1            1.5           0.2  Iris-setosa\n",
              "4   5            5.0           3.6            1.4           0.2  Iris-setosa"
            ]
          },
          "metadata": {
            "tags": []
          },
          "execution_count": 52
        }
      ]
    },
    {
      "cell_type": "code",
      "metadata": {
        "id": "R06WngNUWHAJ",
        "colab_type": "code",
        "colab": {
          "base_uri": "https://localhost:8080/",
          "height": 391
        },
        "outputId": "c25dd35d-27c5-403f-c99c-31f50477af3a"
      },
      "source": [
        "# Replacing columns for ease\n",
        "iris.drop(columns=['Id'],inplace=True)\n",
        "new_column_name = {'SepalLengthCm':'SL','SepalWidthCm':'SW','PetalLengthCm':'PL','PetalWidthCm':'PW'}\n",
        "iris = iris.rename(columns = new_column_name )\n",
        "iris"
      ],
      "execution_count": 53,
      "outputs": [
        {
          "output_type": "execute_result",
          "data": {
            "text/html": [
              "<div>\n",
              "<style scoped>\n",
              "    .dataframe tbody tr th:only-of-type {\n",
              "        vertical-align: middle;\n",
              "    }\n",
              "\n",
              "    .dataframe tbody tr th {\n",
              "        vertical-align: top;\n",
              "    }\n",
              "\n",
              "    .dataframe thead th {\n",
              "        text-align: right;\n",
              "    }\n",
              "</style>\n",
              "<table border=\"1\" class=\"dataframe\">\n",
              "  <thead>\n",
              "    <tr style=\"text-align: right;\">\n",
              "      <th></th>\n",
              "      <th>SL</th>\n",
              "      <th>SW</th>\n",
              "      <th>PL</th>\n",
              "      <th>PW</th>\n",
              "      <th>Species</th>\n",
              "    </tr>\n",
              "  </thead>\n",
              "  <tbody>\n",
              "    <tr>\n",
              "      <th>0</th>\n",
              "      <td>5.1</td>\n",
              "      <td>3.5</td>\n",
              "      <td>1.4</td>\n",
              "      <td>0.2</td>\n",
              "      <td>Iris-setosa</td>\n",
              "    </tr>\n",
              "    <tr>\n",
              "      <th>1</th>\n",
              "      <td>4.9</td>\n",
              "      <td>3.0</td>\n",
              "      <td>1.4</td>\n",
              "      <td>0.2</td>\n",
              "      <td>Iris-setosa</td>\n",
              "    </tr>\n",
              "    <tr>\n",
              "      <th>2</th>\n",
              "      <td>4.7</td>\n",
              "      <td>3.2</td>\n",
              "      <td>1.3</td>\n",
              "      <td>0.2</td>\n",
              "      <td>Iris-setosa</td>\n",
              "    </tr>\n",
              "    <tr>\n",
              "      <th>3</th>\n",
              "      <td>4.6</td>\n",
              "      <td>3.1</td>\n",
              "      <td>1.5</td>\n",
              "      <td>0.2</td>\n",
              "      <td>Iris-setosa</td>\n",
              "    </tr>\n",
              "    <tr>\n",
              "      <th>4</th>\n",
              "      <td>5.0</td>\n",
              "      <td>3.6</td>\n",
              "      <td>1.4</td>\n",
              "      <td>0.2</td>\n",
              "      <td>Iris-setosa</td>\n",
              "    </tr>\n",
              "    <tr>\n",
              "      <th>...</th>\n",
              "      <td>...</td>\n",
              "      <td>...</td>\n",
              "      <td>...</td>\n",
              "      <td>...</td>\n",
              "      <td>...</td>\n",
              "    </tr>\n",
              "    <tr>\n",
              "      <th>145</th>\n",
              "      <td>6.7</td>\n",
              "      <td>3.0</td>\n",
              "      <td>5.2</td>\n",
              "      <td>2.3</td>\n",
              "      <td>Iris-virginica</td>\n",
              "    </tr>\n",
              "    <tr>\n",
              "      <th>146</th>\n",
              "      <td>6.3</td>\n",
              "      <td>2.5</td>\n",
              "      <td>5.0</td>\n",
              "      <td>1.9</td>\n",
              "      <td>Iris-virginica</td>\n",
              "    </tr>\n",
              "    <tr>\n",
              "      <th>147</th>\n",
              "      <td>6.5</td>\n",
              "      <td>3.0</td>\n",
              "      <td>5.2</td>\n",
              "      <td>2.0</td>\n",
              "      <td>Iris-virginica</td>\n",
              "    </tr>\n",
              "    <tr>\n",
              "      <th>148</th>\n",
              "      <td>6.2</td>\n",
              "      <td>3.4</td>\n",
              "      <td>5.4</td>\n",
              "      <td>2.3</td>\n",
              "      <td>Iris-virginica</td>\n",
              "    </tr>\n",
              "    <tr>\n",
              "      <th>149</th>\n",
              "      <td>5.9</td>\n",
              "      <td>3.0</td>\n",
              "      <td>5.1</td>\n",
              "      <td>1.8</td>\n",
              "      <td>Iris-virginica</td>\n",
              "    </tr>\n",
              "  </tbody>\n",
              "</table>\n",
              "<p>150 rows × 5 columns</p>\n",
              "</div>"
            ],
            "text/plain": [
              "      SL   SW   PL   PW         Species\n",
              "0    5.1  3.5  1.4  0.2     Iris-setosa\n",
              "1    4.9  3.0  1.4  0.2     Iris-setosa\n",
              "2    4.7  3.2  1.3  0.2     Iris-setosa\n",
              "3    4.6  3.1  1.5  0.2     Iris-setosa\n",
              "4    5.0  3.6  1.4  0.2     Iris-setosa\n",
              "..   ...  ...  ...  ...             ...\n",
              "145  6.7  3.0  5.2  2.3  Iris-virginica\n",
              "146  6.3  2.5  5.0  1.9  Iris-virginica\n",
              "147  6.5  3.0  5.2  2.0  Iris-virginica\n",
              "148  6.2  3.4  5.4  2.3  Iris-virginica\n",
              "149  5.9  3.0  5.1  1.8  Iris-virginica\n",
              "\n",
              "[150 rows x 5 columns]"
            ]
          },
          "metadata": {
            "tags": []
          },
          "execution_count": 53
        }
      ]
    },
    {
      "cell_type": "markdown",
      "metadata": {
        "id": "DUA4h6olmnUb",
        "colab_type": "text"
      },
      "source": [
        "#### The Iris dataset (decision trees on numerical data)"
      ]
    },
    {
      "cell_type": "markdown",
      "metadata": {
        "id": "DM89gAagY2VC",
        "colab_type": "text"
      },
      "source": [
        "#### Defining function for best split condition on the Petal Length column"
      ]
    },
    {
      "cell_type": "code",
      "metadata": {
        "id": "I3Ja6YhnYm3l",
        "colab_type": "code",
        "colab": {}
      },
      "source": [
        "# Column to work on : PL\n",
        "# Sort dataset on PL\n",
        "iris_sorted = iris.sort_values('PL')\n",
        "\n",
        "def split_condition(iris_sorted):\n",
        "  # Parent entropy\n",
        "  parent_ent = entropy_cont('Species')\n",
        "\n",
        "  # Iterating to find best condition of split on PL\n",
        "  info_gain = []\n",
        "  for val in iris_sorted['PL'][:-1]:\n",
        "    # Splitting dataset\n",
        "    data_less = iris_sorted[iris_sorted['PL']<=val]\n",
        "    data_more = iris_sorted[iris_sorted['PL']>val]\n",
        "\n",
        "    # Calculate entropy of each child dataset\n",
        "    e1 = entropy_cont('Species',data=data_less)\n",
        "    e2 = entropy_cont('Species',data=data_more)\n",
        "\n",
        "    # Calculate weighted entropy \n",
        "    weighted_entropy = (len(data_less)*e1 + len(data_more)*e2)/len(iris_sorted)\n",
        "    info_gain.append(parent_ent - weighted_entropy)\n",
        "  return iris_sorted['PL'].values[info_gain.index(max(info_gain))]"
      ],
      "execution_count": 0,
      "outputs": []
    },
    {
      "cell_type": "markdown",
      "metadata": {
        "id": "dd6rksIF0YuR",
        "colab_type": "text"
      },
      "source": [
        "#### The split condition on the Petal Length column"
      ]
    },
    {
      "cell_type": "code",
      "metadata": {
        "id": "Qz-_k3bGjaz_",
        "colab_type": "code",
        "colab": {
          "base_uri": "https://localhost:8080/",
          "height": 33
        },
        "outputId": "3e646a66-e5ed-496a-ad54-f947e95b5c1a"
      },
      "source": [
        "print(\"Splitting condition on Petal Length : Petal Length(PL) > \",split_condition())"
      ],
      "execution_count": 55,
      "outputs": [
        {
          "output_type": "stream",
          "text": [
            "Splitting condition on Petal Length : Petal Length(PL) >  1.9\n"
          ],
          "name": "stdout"
        }
      ]
    },
    {
      "cell_type": "code",
      "metadata": {
        "id": "F0mF8BUX0sjp",
        "colab_type": "code",
        "colab": {}
      },
      "source": [
        ""
      ],
      "execution_count": 0,
      "outputs": []
    }
  ]
}
